{
 "cells": [
  {
   "cell_type": "code",
   "execution_count": null,
   "metadata": {},
   "outputs": [],
   "source": [
    "#### Include\n",
    "using Plots, LightGraphs, SparseArrays, SimpleWeightedGraphs\n",
    "using Statistics, BenchmarkTools, LinearAlgebra, ProgressMeter\n",
    "using Distributions, Base.Threads, CSV, StatsBase\n",
    "using Base.GC, JLD2, FileIO, Random\n",
    "plotly();"
   ]
  },
  {
   "cell_type": "code",
   "execution_count": null,
   "metadata": {},
   "outputs": [],
   "source": [
    "#### Get data from file\n",
    "function read_data(filename)\n",
    "    lines = readlines(open(filename))\n",
    "    num_variables = 0\n",
    "    for i = 1:length(lines)\n",
    "        if lines[i][1] != '@'\n",
    "            num_variables = i - 6\n",
    "            break\n",
    "        end\n",
    "    end\n",
    "    \n",
    "    @show(num_variables)\n",
    "    \n",
    "    X = zeros(num_variables,length(lines)-num_variables-6)\n",
    "    y = zeros(length(lines)-num_variables-6)\n",
    "    \n",
    "    s = num_variables + 6\n",
    "    classes = Dict()\n",
    "    num_classes = 0\n",
    "    \n",
    "    for i = s:length(lines)-1\n",
    "        line = split(lines[i],\",\")\n",
    "        for j = 1:num_variables\n",
    "            X[j,i-s+1] = parse(Float64,line[j])\n",
    "        end\n",
    "        if haskey(classes,line[end])\n",
    "            y[i-s+1] = classes[line[end]]\n",
    "        else\n",
    "            classes[line[end]] = num_classes+1\n",
    "            num_classes += 1\n",
    "            y[i-s+1] = classes[line[end]]\n",
    "        end\n",
    "        #y[i-s+1] = parse(Float64,line[end])+1\n",
    "    end\n",
    "    \n",
    "    return X,y,classes\n",
    "end\n"
   ]
  },
  {
   "cell_type": "code",
   "execution_count": null,
   "metadata": {},
   "outputs": [],
   "source": [
    "#### read in the data, set up X, Y, and what the labels are\n",
    "#### split into train and test (random 20% of the data)\n",
    "\n",
    "X,y,labels = read_data(\"./ITML Data/banana.dat\")\n",
    "num_classes = length(Set(y))\n",
    "n = size(X,2)\n",
    "d = size(X,1)\n",
    "t = Int(floor(0.8*n))\n",
    "p = randperm(n)\n",
    "Xtrn = X[:,p[1:t]]\n",
    "Xtst = X[:,p[t+1:end]]\n",
    "ytrn = y[p[1:t]]\n",
    "ytst = y[p[t+1:end]];"
   ]
  },
  {
   "cell_type": "code",
   "execution_count": null,
   "metadata": {
    "code_folding": [
     0
    ]
   },
   "outputs": [],
   "source": [
    "### Make similar and different pairs based on the class labels\n",
    "### So, in fact, we *do* have ground truth here\n",
    "\n",
    "function make_SD(X,y)\n",
    "    n = length(y)\n",
    "    S = []\n",
    "    D = []\n",
    "    \n",
    "    for i = 1:n\n",
    "        for j = 1:i-1\n",
    "            if y[i] == y[j]\n",
    "                push!(S,(i,j))\n",
    "            else\n",
    "                push!(D,(i,j))\n",
    "            end\n",
    "        end\n",
    "    end\n",
    "    \n",
    "    return S,D\n",
    "end"
   ]
  },
  {
   "cell_type": "code",
   "execution_count": null,
   "metadata": {},
   "outputs": [],
   "source": [
    "S,D = make_SD(Xtrn,ytrn)"
   ]
  },
  {
   "cell_type": "code",
   "execution_count": null,
   "metadata": {
    "code_folding": []
   },
   "outputs": [],
   "source": [
    "function itml(X,S,D,u,l,A₀,γ)\n",
    "    A = copy(A₀)\n",
    "    _,n = size(X)\n",
    "    λ = spzeros(n,n)\n",
    "    ξ = l*ones(n,n)\n",
    "    \n",
    "    @show(n)\n",
    "    flush(stdout)\n",
    "    \n",
    "    for (i,j) in S\n",
    "        ξ[i,j] = u\n",
    "    end\n",
    "    \n",
    "    N = 20*num_classes^2\n",
    "    Constraints = Dict() ### Dict() is a look-up table\n",
    "    while(length(Constraints) < N)\n",
    "        i = rand(1:n)\n",
    "        j = rand(1:n)\n",
    "        if i != j\n",
    "            a = min(i,j)\n",
    "            b = max(i,j)\n",
    "            if y[b] == y[a]\n",
    "                Constraints[(b,a)] = 1\n",
    "            else\n",
    "                Constraints[(b,a)] = 2 \n",
    "            end\n",
    "        end\n",
    "    end\n",
    "    \n",
    "    @show(length(Constraints))\n",
    "    flush(stdout)\n",
    "    \n",
    "    e = 1e-30\n",
    "    for k = 1:1e2\n",
    "        for (i,j) in keys(Constraints)\n",
    "            if Constraints[(i,j)] == 1\n",
    "                p = (X[:,i]-X[:,j])'*A*(X[:,i]-X[:,j])\n",
    "                δ = 1.0\n",
    "                α = min(λ[i,j],δ/2*(1/(p+e)-γ/(e+ξ[i,j])))\n",
    "                β = δ*α/(1-δ*α*p+e)\n",
    "            \n",
    "                ξ[i,j] = γ*ξ[i,j]/(γ+δ*α*ξ[i,j]+e)\n",
    "                ξ[j,i] = ξ[i,j]\n",
    "        \n",
    "                λ[i,j] -= α\n",
    "                λ[j,i] = λ[i,j]\n",
    "        \n",
    "                A += β*A*(X[:,i]-X[:,j])*(X[:,i]-X[:,j])'*A\n",
    "            else\n",
    "                p = (X[:,i]-X[:,j])'*A*(X[:,i]-X[:,j])\n",
    "                δ = -1.0\n",
    "                α = min(λ[i,j],δ/2*(1/(e+p)-γ/(e+ξ[i,j])))\n",
    "                β = δ*α/(1-δ*α*p+e)\n",
    "        \n",
    "                ξ[i,j] = γ*ξ[i,j]/(γ+δ*α*ξ[i,j]+e)\n",
    "                ξ[j,i] = ξ[i,j]\n",
    "        \n",
    "                λ[i,j] -= α\n",
    "                λ[j,i] = λ[i,j]\n",
    "        \n",
    "                A += β*A*(X[:,i]-X[:,j])*(X[:,i]-X[:,j])'*A\n",
    "            end\n",
    "        end\n",
    "        \n",
    "        if k %1e2 == 0\n",
    "            classify(A,5)\n",
    "        end\n",
    "    end\n",
    "    \n",
    "    return A\n",
    "end"
   ]
  },
  {
   "cell_type": "code",
   "execution_count": null,
   "metadata": {
    "code_folding": [
     0,
     37,
     44
    ]
   },
   "outputs": [],
   "source": [
    "\n",
    "function eig_proj(A)\n",
    "    F = eigen((A'+A)/2, permute=false)\n",
    "    p = F.values .> 0\n",
    "    return F.vectors *Diagonal(p.*F.values)*F.vectors'\n",
    "end\n",
    "\n",
    "function classify(A,K)\n",
    "    A = eig_proj(A)\n",
    "    n = size(Xtst,2)\n",
    "    ypred = zeros(n)\n",
    "    for i = 1:n\n",
    "        x = Xtst[:,i]\n",
    "        dists = zeros(size(Xtrn,2))\n",
    "        for j = 1:size(Xtrn,2)\n",
    "            dists[j] = sqrt((Xtrn[:,j]-x)'*A*(Xtrn[:,j]-x))\n",
    "        end\n",
    "        p = sortperm(dists)\n",
    "        ngbd = ytrn[p[1:K]]\n",
    "        Count = zeros(num_classes)\n",
    "        for i = 1:length(ngbd)\n",
    "            Count[Int(ngbd[i])] += 1\n",
    "        end\n",
    "        ypred[i] = findmax(Count)[2]\n",
    "    end\n",
    "    \n",
    "    @show(sum(ypred .== ytst)/length(ytst))\n",
    "    flush(stdout)\n",
    "    \n",
    "    return sum(ypred .== ytst)/length(ytst)\n",
    "end"
   ]
  },
  {
   "cell_type": "code",
   "execution_count": null,
   "metadata": {},
   "outputs": [],
   "source": [
    "num_classes"
   ]
  },
  {
   "cell_type": "code",
   "execution_count": null,
   "metadata": {},
   "outputs": [],
   "source": [
    "length(y)"
   ]
  },
  {
   "cell_type": "code",
   "execution_count": null,
   "metadata": {},
   "outputs": [],
   "source": [
    "Sys.free_memory()/2^(30)"
   ]
  },
  {
   "cell_type": "code",
   "execution_count": null,
   "metadata": {},
   "outputs": [],
   "source": [
    "Sys.free_memory()/2^(30)"
   ]
  },
  {
   "cell_type": "code",
   "execution_count": null,
   "metadata": {},
   "outputs": [],
   "source": [
    "#n = length(y)\n",
    "A₀ = Matrix(I,d,d)\n",
    "u = 1\n",
    "l = 10\n",
    "γ = 1"
   ]
  },
  {
   "cell_type": "code",
   "execution_count": null,
   "metadata": {
    "scrolled": false
   },
   "outputs": [],
   "source": [
    "@time A₁ = stochastic_itml(Xtrn,S,D,u,l,Matrix(I,d,d),γ,1e8,5)"
   ]
  },
  {
   "cell_type": "code",
   "execution_count": null,
   "metadata": {},
   "outputs": [],
   "source": [
    "length(ytst)"
   ]
  },
  {
   "cell_type": "code",
   "execution_count": null,
   "metadata": {},
   "outputs": [],
   "source": [
    "avg_acc = zeros(100);"
   ]
  },
  {
   "cell_type": "code",
   "execution_count": null,
   "metadata": {
    "scrolled": false
   },
   "outputs": [],
   "source": [
    "for i=1:100\n",
    "    A₂ = itml(Xtrn,S,D,u,l,Matrix(I,d,d),γ)\n",
    "    avg_acc[i] = classify(A₂,5)\n",
    "end\n",
    "\n",
    "@show(mean(avg_acc))"
   ]
  },
  {
   "cell_type": "code",
   "execution_count": null,
   "metadata": {},
   "outputs": [],
   "source": [
    "sum(avg_acc)/75"
   ]
  },
  {
   "cell_type": "code",
   "execution_count": null,
   "metadata": {},
   "outputs": [],
   "source": [
    "A = sparse(rand(1:5,5))"
   ]
  },
  {
   "cell_type": "code",
   "execution_count": null,
   "metadata": {},
   "outputs": [],
   "source": [
    "nz(A)"
   ]
  },
  {
   "cell_type": "code",
   "execution_count": null,
   "metadata": {},
   "outputs": [],
   "source": [
    "size(Xtrn,2)"
   ]
  },
  {
   "cell_type": "code",
   "execution_count": null,
   "metadata": {},
   "outputs": [],
   "source": [
    "size(X)"
   ]
  }
 ],
 "metadata": {
  "@webio": {
   "lastCommId": null,
   "lastKernelId": null
  },
  "kernelspec": {
   "display_name": "Julia 1.8.1",
   "language": "julia",
   "name": "julia-1.8"
  },
  "language_info": {
   "file_extension": ".jl",
   "mimetype": "application/julia",
   "name": "julia",
   "version": "1.8.1"
  }
 },
 "nbformat": 4,
 "nbformat_minor": 2
}
