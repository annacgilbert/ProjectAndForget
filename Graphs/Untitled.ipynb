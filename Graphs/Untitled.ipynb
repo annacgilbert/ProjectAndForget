{
 "cells": [
  {
   "cell_type": "code",
   "execution_count": 1,
   "metadata": {},
   "outputs": [
    {
     "name": "stderr",
     "output_type": "stream",
     "text": [
      "\u001b[1m\u001b[36mINFO: \u001b[39m\u001b[22m\u001b[36mCloning cache of LightGraphs from https://github.com/JuliaGraphs/LightGraphs.jl.git\n",
      "\u001b[39m\u001b[1m\u001b[36mINFO: \u001b[39m\u001b[22m\u001b[36mInstalling LightGraphs v0.12.0\n",
      "\u001b[39m\u001b[1m\u001b[36mINFO: \u001b[39m\u001b[22m\u001b[36mBuilding CodecZlib\n",
      "\u001b[39m"
     ]
    }
   ],
   "source": [
    "Pkg.add(\"LightGraphs\")"
   ]
  },
  {
   "cell_type": "code",
   "execution_count": 7,
   "metadata": {},
   "outputs": [
    {
     "name": "stderr",
     "output_type": "stream",
     "text": [
      "\u001b[1m\u001b[36mINFO: \u001b[39m\u001b[22m\u001b[36mPrecompiling module LightGraphs.\n",
      "\u001b[39m"
     ]
    }
   ],
   "source": [
    "using MAT, LightGraphs"
   ]
  },
  {
   "cell_type": "code",
   "execution_count": 28,
   "metadata": {},
   "outputs": [
    {
     "data": {
      "text/plain": [
       "Dict{String,Any} with 1 entry:\n",
       "  \"Problem\" => Dict{String,Any}(Pair{String,Any}(\"name\", \"MathWorks/Harvard500\"…"
      ]
     },
     "execution_count": 28,
     "metadata": {},
     "output_type": "execute_result"
    }
   ],
   "source": [
    "F = matread(\"Harvard500.mat\")"
   ]
  },
  {
   "cell_type": "code",
   "execution_count": 29,
   "metadata": {},
   "outputs": [
    {
     "data": {
      "text/plain": [
       "500×500 SparseMatrixCSC{Float64,Int64} with 2636 stored entries:\n",
       "  [2  ,   1]  =  1.0\n",
       "  [3  ,   1]  =  1.0\n",
       "  [4  ,   1]  =  1.0\n",
       "  [5  ,   1]  =  1.0\n",
       "  [6  ,   1]  =  1.0\n",
       "  [7  ,   1]  =  1.0\n",
       "  [8  ,   1]  =  1.0\n",
       "  [9  ,   1]  =  1.0\n",
       "  [10 ,   1]  =  1.0\n",
       "  [11 ,   1]  =  1.0\n",
       "  ⋮\n",
       "  [361, 492]  =  1.0\n",
       "  [1  , 495]  =  1.0\n",
       "  [360, 496]  =  1.0\n",
       "  [260, 497]  =  1.0\n",
       "  [1  , 498]  =  1.0\n",
       "  [18 , 498]  =  1.0\n",
       "  [222, 498]  =  1.0\n",
       "  [223, 498]  =  1.0\n",
       "  [17 , 499]  =  1.0\n",
       "  [13 , 500]  =  1.0\n",
       "  [358, 500]  =  1.0"
      ]
     },
     "execution_count": 29,
     "metadata": {},
     "output_type": "execute_result"
    }
   ],
   "source": [
    "A = F[\"Problem\"][\"A\"]"
   ]
  },
  {
   "cell_type": "code",
   "execution_count": 30,
   "metadata": {},
   "outputs": [
    {
     "data": {
      "text/plain": [
       "{500, 2116} undirected simple Int64 graph"
      ]
     },
     "execution_count": 30,
     "metadata": {},
     "output_type": "execute_result"
    }
   ],
   "source": [
    "g = SimpleGraph(A+A')"
   ]
  },
  {
   "cell_type": "code",
   "execution_count": 31,
   "metadata": {},
   "outputs": [
    {
     "data": {
      "text/plain": [
       "1-element Array{Array{Int64,1},1}:\n",
       " [1, 2, 3, 4, 5, 6, 7, 8, 9, 10  …  491, 492, 493, 494, 495, 496, 497, 498, 499, 500]"
      ]
     },
     "execution_count": 31,
     "metadata": {},
     "output_type": "execute_result"
    }
   ],
   "source": [
    "C = LightGraphs.connected_components(g)"
   ]
  },
  {
   "cell_type": "code",
   "execution_count": 32,
   "metadata": {},
   "outputs": [
    {
     "data": {
      "text/plain": [
       "({500, 2116} undirected simple Int64 graph, [1, 2, 3, 4, 5, 6, 7, 8, 9, 10  …  491, 492, 493, 494, 495, 496, 497, 498, 499, 500])"
      ]
     },
     "execution_count": 32,
     "metadata": {},
     "output_type": "execute_result"
    }
   ],
   "source": [
    "G,_ = LightGraphs.induced_subgraph(g,C[1])"
   ]
  },
  {
   "cell_type": "code",
   "execution_count": 33,
   "metadata": {},
   "outputs": [
    {
     "data": {
      "text/plain": [
       "1"
      ]
     },
     "execution_count": 33,
     "metadata": {},
     "output_type": "execute_result"
    }
   ],
   "source": [
    "savegraph(\"roget.lgz\",G)"
   ]
  },
  {
   "cell_type": "code",
   "execution_count": null,
   "metadata": {},
   "outputs": [],
   "source": []
  }
 ],
 "metadata": {
  "kernelspec": {
   "display_name": "Julia 0.6.2",
   "language": "julia",
   "name": "julia-0.6"
  },
  "language_info": {
   "file_extension": ".jl",
   "mimetype": "application/julia",
   "name": "julia",
   "version": "0.6.2"
  }
 },
 "nbformat": 4,
 "nbformat_minor": 2
}
